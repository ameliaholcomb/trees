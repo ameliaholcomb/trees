{
 "cells": [
  {
   "cell_type": "markdown",
   "metadata": {},
   "source": [
    "We have multiple views of a tree (RGB+depth), which we would like to combine into a single depth point cloud from one reference frame. We do not know the exact movement of the camera from one frame to the next.\n",
    "\n",
    "Concept: Use the RGB component of the image (which can be matched in a more straightforward way between images) to find matched features between the two images. RANSAC to find homography between images using inlier matches.\n",
    "_Assume_ that the projection transform between the two camera images is the same as the projection transform between the two depth images."
   ]
  },
  {
   "cell_type": "code",
   "execution_count": 1,
   "metadata": {},
   "outputs": [],
   "source": [
    "%matplotlib inline\n",
    "\n",
    "import math\n",
    "import numpy as np\n",
    "import matplotlib\n",
    "import matplotlib.image as image\n",
    "import matplotlib.pyplot as plt\n",
    "from skimage.feature import (corner_harris, corner_peaks, plot_matches, BRIEF, match_descriptors)\n",
    "from skimage import transform\n",
    "from skimage.transform import warp, ProjectiveTransform\n",
    "from skimage.color import rgb2gray\n",
    "from skimage.measure import ransac"
   ]
  },
  {
   "cell_type": "code",
   "execution_count": null,
   "metadata": {},
   "outputs": [],
   "source": [
    "# Part 1a: Load RGB images\n",
    "imL = image.imread('./multiview_samples')"
   ]
  }
 ],
 "metadata": {
  "kernelspec": {
   "display_name": "Python 3",
   "language": "python",
   "name": "python3"
  },
  "language_info": {
   "codemirror_mode": {
    "name": "ipython",
    "version": 3
   },
   "file_extension": ".py",
   "mimetype": "text/x-python",
   "name": "python",
   "nbconvert_exporter": "python",
   "pygments_lexer": "ipython3",
   "version": "3.7.3"
  }
 },
 "nbformat": 4,
 "nbformat_minor": 2
}
